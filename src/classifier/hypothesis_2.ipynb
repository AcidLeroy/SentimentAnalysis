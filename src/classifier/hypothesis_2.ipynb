{
 "cells": [
  {
   "cell_type": "markdown",
   "metadata": {},
   "source": [
    "#Movie Sentiment Classification\n",
    "Cody W. Eilar & Venkatesh Jatla <br/>\n",
    "Date: 10/12/15"
   ]
  },
  {
   "cell_type": "code",
   "execution_count": null,
   "metadata": {
    "collapsed": true
   },
   "outputs": [],
   "source": [
    "import pandas as pd\n",
    "import numpy as np\n",
    "import csv\n",
    "import glob"
   ]
  },
  {
   "cell_type": "markdown",
   "metadata": {},
   "source": [
    "## Get the data\n",
    "In this step we use pandas to extract the raw text files from the directories and classify them based on the name of the directory."
   ]
  },
  {
   "cell_type": "code",
   "execution_count": null,
   "metadata": {
    "collapsed": false
   },
   "outputs": [],
   "source": [
    "def create_data_frame(directories, samples):\n",
    "    frame = pd.DataFrame()\n",
    "    list_ = []\n",
    "    sent_ = []\n",
    "    for my_dir in directories:\n",
    "        num_times = 0\n",
    "        for file_name in glob.iglob(my_dir): \n",
    "            if num_times < samples:\n",
    "                df = pd.read_csv(file_name, sep='\\n',names=['text'])\n",
    "                list_.append(df)\n",
    "                \n",
    "                tmp = file_name.split('/')\n",
    "                if \"pos\" in tmp: \n",
    "                    sent_.append(1)\n",
    "                else: \n",
    "                    sent_.append(-1)\n",
    "            else: \n",
    "                break;\n",
    "            num_times = num_times+1\n",
    "   \n",
    "    frame = pd.concat(list_, ignore_index=True)\n",
    "    frame['sentiment'] = sent_\n",
    "\n",
    "    return frame"
   ]
  },
  {
   "cell_type": "markdown",
   "metadata": {},
   "source": [
    "##Display some of the first reviews acquired"
   ]
  },
  {
   "cell_type": "code",
   "execution_count": null,
   "metadata": {
    "collapsed": false
   },
   "outputs": [],
   "source": [
    "directories = [\"/Users/cody/Downloads/aclImdb/train/pos/*.txt\", \"/Users/cody/Downloads/aclImdb/train/neg/*.txt\"]\n",
    "samples = 10000\n",
    "train_reviews = create_data_frame(directories, samples)\n",
    "\n",
    "print(train_reviews.head(10))"
   ]
  },
  {
   "cell_type": "markdown",
   "metadata": {},
   "source": [
    "##Display some statistics about the data we are attempting to classify"
   ]
  },
  {
   "cell_type": "code",
   "execution_count": null,
   "metadata": {
    "collapsed": false,
    "scrolled": true
   },
   "outputs": [],
   "source": [
    "train_reviews.groupby('sentiment').describe()"
   ]
  },
  {
   "cell_type": "markdown",
   "metadata": {},
   "source": [
    "## Build a classification pipeline using an SVM \n",
    "This step removes all stop words and converts the words in a review into a matrix of token counts. This is then passed into a \"tfidf\" or term-frequency times inverse document frequency representation. Finally, this matrix is then passed into a support vector machine to train and then later to classify."
   ]
  },
  {
   "cell_type": "code",
   "execution_count": null,
   "metadata": {
    "collapsed": false
   },
   "outputs": [],
   "source": [
    "from sklearn.pipeline import Pipeline\n",
    "from sklearn.linear_model import SGDClassifier\n",
    "from sklearn.feature_extraction.text import TfidfTransformer\n",
    "from sklearn.feature_extraction.text import CountVectorizer\n",
    " \n",
    "text_clf = Pipeline([('vect', CountVectorizer(stop_words='english')),\n",
    "                     ('tfidf', TfidfTransformer()),\n",
    "                     ('clf', SGDClassifier(loss='modified_huber', penalty='l2', alpha=1e-3, n_iter=10, random_state=42)),\n",
    "])"
   ]
  },
  {
   "cell_type": "markdown",
   "metadata": {},
   "source": [
    "##Train the classifier"
   ]
  },
  {
   "cell_type": "code",
   "execution_count": null,
   "metadata": {
    "collapsed": false
   },
   "outputs": [],
   "source": [
    "%time text_clf = text_clf.fit(train_reviews['text'].values, train_reviews['sentiment'].values)"
   ]
  },
  {
   "cell_type": "code",
   "execution_count": null,
   "metadata": {
    "collapsed": false
   },
   "outputs": [],
   "source": [
    "directories = [\"/Users/cody/Downloads/aclImdb/test/pos/*.txt\", \"/Users/cody/Downloads/aclImdb/test/neg/*.txt\"]\n",
    "samples = 12500\n",
    "test_reviews = create_data_frame(directories, samples)\n",
    "\n",
    "print(test_reviews.head(10))"
   ]
  },
  {
   "cell_type": "markdown",
   "metadata": {},
   "source": [
    "## Check how well we performed"
   ]
  },
  {
   "cell_type": "code",
   "execution_count": null,
   "metadata": {
    "collapsed": false
   },
   "outputs": [],
   "source": [
    "predicted = text_clf.predict(test_reviews['text'].values)\n",
    "print(\"Score is: {}\".format(np.mean(predicted == test_reviews['sentiment'].values)))\n",
    "print(predicted)"
   ]
  },
  {
   "cell_type": "markdown",
   "metadata": {},
   "source": [
    "## Display confusion matrix"
   ]
  },
  {
   "cell_type": "code",
   "execution_count": null,
   "metadata": {
    "collapsed": false
   },
   "outputs": [],
   "source": [
    "from sklearn.metrics import confusion_matrix\n",
    "import matplotlib.pyplot as plt\n",
    "cm = confusion_matrix(test_reviews['sentiment'].values, predicted)\n",
    "%matplotlib inline\n",
    "print(cm)\n",
    "fig = plt.figure()\n",
    "ax = fig.add_subplot(111)\n",
    "cax = ax.matshow(cm, interpolation='nearest')\n",
    "fig.colorbar(cax)\n",
    "values = ['pos', 'neg']\n",
    "plt.title('Confusion matrix')\n",
    "plt.ylabel('True label')\n",
    "plt.xlabel('Predicted label')\n",
    "ax.set_xticklabels(['']+values)\n",
    "ax.set_yticklabels(['']+values)\n",
    "plt.show()"
   ]
  },
  {
   "cell_type": "code",
   "execution_count": null,
   "metadata": {
    "collapsed": true
   },
   "outputs": [],
   "source": []
  }
 ],
 "metadata": {
  "kernelspec": {
   "display_name": "Python 2",
   "language": "python",
   "name": "python2"
  },
  "language_info": {
   "codemirror_mode": {
    "name": "ipython",
    "version": 2
   },
   "file_extension": ".py",
   "mimetype": "text/x-python",
   "name": "python",
   "nbconvert_exporter": "python",
   "pygments_lexer": "ipython2",
   "version": "2.7.10"
  }
 },
 "nbformat": 4,
 "nbformat_minor": 0
}
