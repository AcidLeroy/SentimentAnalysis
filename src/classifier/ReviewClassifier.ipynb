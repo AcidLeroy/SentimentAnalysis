{
 "cells": [
  {
   "cell_type": "markdown",
   "metadata": {},
   "source": [
    "#Movie Review Classifier\n",
    "Author: Cody W. Eilar & Venktatesh Jatla<br/>\n",
    "Date: 10/9/15"
   ]
  },
  {
   "cell_type": "code",
   "execution_count": 20,
   "metadata": {
    "collapsed": false,
    "scrolled": true
   },
   "outputs": [],
   "source": [
    "import pandas\n",
    "import numpy as np\n",
    "import csv\n",
    "from sklearn.feature_extraction.text import TfidfTransformer\n",
    "from sklearn.feature_extraction.text import CountVectorizer\n",
    "from sklearn.feature_extraction import DictVectorizer\n"
   ]
  },
  {
   "cell_type": "markdown",
   "metadata": {},
   "source": [
    "## Read training negative reviews\n",
    "Do we want a dictionary or do we want to use pandas? I left the pandas code in there just in case it is useful in the end. If we end up not using it, let's delete it. "
   ]
  },
  {
   "cell_type": "code",
   "execution_count": 21,
   "metadata": {
    "collapsed": false,
    "scrolled": true
   },
   "outputs": [],
   "source": [
    "file = \"../../results/train_neg.txt\"\n",
    "\n",
    "#neg_file = pandas.read_csv(file, sep='\\t', quoting=csv.QUOTE_NONE,\n",
    "#                           names=[\"word\", \"counts\"])\n",
    "\n",
    "neg_dict = {}\n",
    "with open(file, encoding='utf-8', mode='r') as neg_file:\n",
    "    for line in neg_file: \n",
    "        tmp = line.split()\n",
    "        neg_dict[tmp[0]] = tmp[1]"
   ]
  },
  {
   "cell_type": "markdown",
   "metadata": {},
   "source": [
    "##Vectorize the negative review training data\n",
    "\n",
    "I'm not quite sure what the right way is to do this..."
   ]
  },
  {
   "cell_type": "code",
   "execution_count": 22,
   "metadata": {
    "collapsed": false
   },
   "outputs": [],
   "source": [
    "v = DictVectorizer();\n",
    "neg_x = v.fit_transform(neg_dict)"
   ]
  }
 ],
 "metadata": {
  "kernelspec": {
   "display_name": "Python 3",
   "language": "python",
   "name": "python3"
  },
  "language_info": {
   "codemirror_mode": {
    "name": "ipython",
    "version": 3
   },
   "file_extension": ".py",
   "mimetype": "text/x-python",
   "name": "python",
   "nbconvert_exporter": "python",
   "pygments_lexer": "ipython3",
   "version": "3.4.3"
  }
 },
 "nbformat": 4,
 "nbformat_minor": 0
}
